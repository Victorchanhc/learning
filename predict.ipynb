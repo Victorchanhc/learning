{
 "cells": [
  {
   "cell_type": "code",
   "execution_count": 43,
   "metadata": {},
   "outputs": [
    {
     "name": "stdout",
     "output_type": "stream",
     "text": [
      "<PIL.Image.Image image mode=RGB size=160x160 at 0x28E5F9160>\n"
     ]
    }
   ],
   "source": [
    "import tensorflow as tf\n",
    "import numpy as np\n",
    "import os\n",
    "import pathlib\n",
    "import PIL\n",
    "import keras\n",
    "\n",
    "model = tf.keras.models.load_model('my_model.keras')\n",
    "class_names = ['liverpool', 'manchester-city', 'manchester-united']\n",
    "\n",
    "IMG_SIZE = 160\n",
    "def format_example(image, label):\n",
    "    image = tf.cast(image, tf.float32)\n",
    "    image = (image/127.5) - 1\n",
    "    return image, label\n",
    "\n",
    "image = keras.utils.load_img(\"test-image/man.jpg\", target_size=(IMG_SIZE,IMG_SIZE))\n",
    "print(image)"
   ]
  },
  {
   "cell_type": "code",
   "execution_count": 44,
   "metadata": {},
   "outputs": [],
   "source": [
    "input_arr = keras.utils.img_to_array(image)"
   ]
  },
  {
   "cell_type": "code",
   "execution_count": 45,
   "metadata": {},
   "outputs": [],
   "source": [
    "input_arr = np.array([image])  # Convert single image to a batch."
   ]
  },
  {
   "cell_type": "code",
   "execution_count": 46,
   "metadata": {},
   "outputs": [],
   "source": [
    "input_arr = (input_arr/127.5) - 1"
   ]
  },
  {
   "cell_type": "code",
   "execution_count": 47,
   "metadata": {},
   "outputs": [],
   "source": [
    "predict_dataset = tf.convert_to_tensor(input_arr)"
   ]
  },
  {
   "cell_type": "code",
   "execution_count": 48,
   "metadata": {},
   "outputs": [
    {
     "name": "stdout",
     "output_type": "stream",
     "text": [
      "tf.Tensor([[-6.2050047 -4.6573644  2.545773 ]], shape=(1, 3), dtype=float32)\n",
      "[2]\n",
      "Example 0 prediction: manchester-united 99.9%\n"
     ]
    }
   ],
   "source": [
    "predictions = model(predict_dataset, training=False)\n",
    "print(predictions)\n",
    "probs = tf.nn.softmax(predictions)\n",
    "class_indexes = tf.argmax(probs, axis = 1 ).numpy()\n",
    "print(class_indexes)\n",
    "\n",
    "for i, class_idx in enumerate(class_indexes):\n",
    "  name = class_names[class_idx]\n",
    "  p = probs.numpy()[i][class_idx]\n",
    "  print(f\"Example {i} prediction: {name} {100*p:4.1f}%\")"
   ]
  }
 ],
 "metadata": {
  "kernelspec": {
   "display_name": "tf_python",
   "language": "python",
   "name": "python3"
  },
  "language_info": {
   "codemirror_mode": {
    "name": "ipython",
    "version": 3
   },
   "file_extension": ".py",
   "mimetype": "text/x-python",
   "name": "python",
   "nbconvert_exporter": "python",
   "pygments_lexer": "ipython3",
   "version": "3.9.9"
  }
 },
 "nbformat": 4,
 "nbformat_minor": 2
}
